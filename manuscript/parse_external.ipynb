{
 "cells": [
  {
   "cell_type": "code",
   "execution_count": 1,
   "id": "efe16d10-3f53-4f20-b4fe-ddfe7c9468c7",
   "metadata": {},
   "outputs": [],
   "source": [
    "import os\n",
    "import pandas as pd\n",
    "import numpy as np\n",
    "from dotenv import load_dotenv\n",
    "load_dotenv('.env')\n",
    "load_dotenv('../.env')\n",
    "from sksurv.util import Surv\n",
    "\n",
    "# def helper_get_training_genes():\n",
    "#     # get a list of 996 genes used for training RNA-Seq models\n",
    "#     df = pd.read_csv(os.environ.get(\"GENEEXPRESSIONFILE\"),sep='\\t')\n",
    "#     gene_ids = [s.split('Feature_exp_')[1] for s in df.filter(regex='Feature_exp').columns]\n",
    "#     return gene_ids\n",
    "\n",
    "# gene_ids = helper_get_training_genes()\n",
    "\n",
    "def parse_global_clinsurv_df():\n",
    "    return pd.read_csv(os.environ.get(\"EXTERNALCLINDATAFILE\"), sep=',')\\\n",
    "        .sort_values(by='Patient')\\\n",
    "        .rename(columns={'Patient':'PUBLIC_ID'})\\\n",
    "        .set_index('PUBLIC_ID')\n",
    "\n",
    "global_clinsurv_df = parse_global_clinsurv_df()\n",
    "\n",
    "def parse_global_clindf():\n",
    "    df = global_clinsurv_df\\\n",
    "        [['Study','D_Age','D_Gender','D_ISS']]\\\n",
    "        .convert_dtypes('D_ISS',int)\\\n",
    "        .assign(D_Age=lambda df: df['D_Age'])\n",
    "    \n",
    "    df = pd.get_dummies(df,columns=['D_ISS'],dtype=int)\\\n",
    "        .assign(D_male=lambda df: df['D_Gender'].map({'Male': 1, 'Female': -1}).fillna(0).astype(int))\\\n",
    "        .drop(columns='D_Gender')\n",
    "\n",
    "    df.columns = df.columns\\\n",
    "        .str.replace('D_','Feature_clin_D_PT_')\\\n",
    "        .str.replace('Age','age')\\\n",
    "        .str.replace('ISS','iss') # consistency with CoMMpass clinical column names\n",
    "    '''\n",
    "    PUBLIC_ID [index]\n",
    "    Feature_clin_D_PT_age\n",
    "    Feature_clin_D_PT_iss_1\n",
    "    Feature_clin_D_PT_iss_2\n",
    "    Feature_clin_D_PT_iss_3\n",
    "    Feature_clin_D_PT_male\n",
    "    '''\n",
    "    return df\n",
    "\n",
    "global_clindf=parse_global_clindf()\n",
    "\n",
    "def parse_clin_helper(studyname):\n",
    "    return global_clindf.query(f\"Study==\\\"{studyname}\\\"\").drop(columns='Study')\n",
    "\n",
    "def parse_surv_helper(studyname,endpoint):\n",
    "    # returns a structured array required by sksurv linear models fit function\n",
    "    ENDPOINT=str.upper(endpoint)\n",
    "    studydf=global_clinsurv_df.query(f\"Study==\\\"{studyname}\\\"\")[[f'D_{ENDPOINT}_FLAG',f'D_{ENDPOINT}']]\n",
    "    return Surv.from_dataframe(f'D_{ENDPOINT}_FLAG',f'D_{ENDPOINT}',studydf)\n",
    "\n",
    "# def parse_exp_helper(dotenvfilename):\n",
    "#     # used for calculating indices\n",
    "#     try: # GSE24080UAMS or HOVON65\n",
    "#         df = pd.read_csv(os.environ.get(dotenvfilename),sep=',').sort_values('Accession')\n",
    "#     except: # EMTAB-4032\n",
    "#         df = pd.read_csv(os.environ.get(dotenvfilename),sep='\\t').sort_values('Accession')\n",
    "#     df = df\\\n",
    "#         .rename(columns={'Accession':'PUBLIC_ID'})\\\n",
    "#         .set_index('PUBLIC_ID')\n",
    "#     gene_id_hits = [g for g in df.columns if g in gene_ids] # 904 genes\n",
    "#     gene_id_miss = [g for g in gene_ids if g not in gene_id_hits] # 92 genes\n",
    "#     df_hits = df[gene_id_hits]\n",
    "#     df_miss = pd.DataFrame(pd.NA,index=df.index,columns=gene_id_miss)\n",
    "#     df = pd.concat([df_hits,df_miss],axis=1)[gene_ids]\n",
    "#     df = df.rename(columns=lambda x: f'Feature_exp_{x}')\n",
    "#     return df\n",
    "\n",
    "# for VAE RNA-Seq model\n",
    "def parse_clin_uams():\n",
    "    return parse_clin_helper(\"GSE24080UAMS\")\n",
    "def parse_clin_hovon():\n",
    "    return parse_clin_helper(\"HOVON65\")\n",
    "def parse_clin_emtab():\n",
    "    return parse_clin_helper(\"EMTAB4032\")\n",
    "\n",
    "def parse_exp_uams():\n",
    "    return parse_exp_helper(\"UAMSDATAFILE\")\n",
    "def parse_exp_hovon():\n",
    "    return parse_exp_helper(\"HOVONDATAFILE\")\n",
    "def parse_exp_emtab():\n",
    "    return parse_exp_helper(\"EMTABDATAFILE\")\n",
    "\n",
    "def parse_surv_uams(endpoint):\n",
    "    return list(zip(*parse_surv_helper(\"GSE24080UAMS\",endpoint)))\n",
    "def parse_surv_hovon(endpoint):\n",
    "    return list(zip(*parse_surv_helper(\"HOVON65\",endpoint)))\n",
    "def parse_surv_emtab(endpoint):\n",
    "    return list(zip(*parse_surv_helper(\"EMTAB4032\",endpoint)))\n",
    "\n",
    "# for PCA RNA-Seq model\n",
    "def parse_exp_pc_uams():\n",
    "    return pd.read_csv(os.environ.get(\"UAMSPCGENEEXPRESSIONFILE\"),sep='\\t',index_col=0)\n",
    "    \n",
    "def parse_exp_pc_hovon():\n",
    "    return pd.read_csv(os.environ.get(\"HOVONPCGENEEXPRESSIONFILE\"),sep='\\t',index_col=0)\n",
    "    \n",
    "def parse_exp_pc_emtab():\n",
    "    return pd.read_csv(os.environ.get(\"EMTABPCGENEEXPRESSIONFILE\"),sep='\\t',index_col=0)"
   ]
  },
  {
   "cell_type": "code",
   "execution_count": 2,
   "id": "73f8f69b-dd66-4d92-84ee-30bf3de612d7",
   "metadata": {},
   "outputs": [],
   "source": [
    "def helper_get_training_genes(endpoint,shuffle,fold):\n",
    "    # read the significant genes\n",
    "    scratchdir=\"/scratch/users/nus/e1083772/cancer-survival-ml/data/splits\"\n",
    "    features_file=f'{scratchdir}/{shuffle}/{fold}/valid_features_processed.parquet'\n",
    "    features=pd.read_parquet(features_file)\n",
    "    columns = features.filter(regex='Feature_exp').columns\n",
    "    genes = columns.str.extract('.*Feature_exp_(ENSG.*)$').iloc[:,0].values.tolist()\n",
    "    return genes"
   ]
  },
  {
   "cell_type": "code",
   "execution_count": 3,
   "id": "b4d991e9-8d16-4b96-aec9-27976941439d",
   "metadata": {},
   "outputs": [],
   "source": [
    "def geo_mean(iterable):\n",
    "    a = np.array(iterable)\n",
    "    return a.prod()**(1.0/len(a))"
   ]
  },
  {
   "cell_type": "code",
   "execution_count": 4,
   "id": "3bdc0fa3-4685-4f31-8fd2-a7f5fb12c60f",
   "metadata": {},
   "outputs": [],
   "source": [
    "def parse_exp_helper(dotenvfilename,genes,level=\"ensembl\"):\n",
    "    ref = globals()['ref']\n",
    "    geo_mean = globals()['geo_mean']\n",
    "    assert ref is not None\n",
    "    assert geo_mean is not None\n",
    "    if level==\"ensembl\":\n",
    "        try: # GSE24080UAMS or HOVON65\n",
    "            df = pd.read_csv(os.environ.get(dotenvfilename),sep=',').sort_values('Accession')\n",
    "        except: # EMTAB-4032\n",
    "            df = pd.read_csv(os.environ.get(dotenvfilename),sep='\\t').sort_values('Accession')\n",
    "        # ensembl gene IDs\n",
    "        # used for calculating indices\n",
    "        df = df.rename(columns={'Accession':'PUBLIC_ID'}).set_index('PUBLIC_ID')\n",
    "        gene_id_hits = [g for g in df.columns if g in genes] # 904 genes\n",
    "        gene_id_miss = [g for g in genes if g not in gene_id_hits] # 92 genes\n",
    "        df_hits = df[gene_id_hits]\n",
    "        df_miss = pd.DataFrame(pd.NA,index=df.index,columns=gene_id_miss)\n",
    "        df = pd.concat([df_hits,df_miss],axis=1)[genes]\n",
    "        if not df.columns[0].startswith('Feature_exp'):\n",
    "            df = df.rename(columns=lambda x: f'Feature_exp_{x}')\n",
    "        return df\n",
    "    elif level==\"entrez\":\n",
    "        train_ref = ref[ref.ensembl_gene_id.isin(genes)][['ensembl_gene_id','entrezgene_id']].drop_duplicates()\n",
    "        df = pd.read_csv(os.environ.get(dotenvfilename),index_col=0)\n",
    "        df.index.name = 'entrezgene_id'\n",
    "        df.reset_index(inplace=True)\n",
    "        df_ensg = df.merge(train_ref,on='entrezgene_id').drop_duplicates().drop(columns=['entrezgene_id']).set_index('ensembl_gene_id').transpose()\n",
    "        df_ensg_missing = pd.DataFrame(pd.NA, index=df_ensg.index, columns=train_ref.ensembl_gene_id[~train_ref.ensembl_gene_id.isin(df_ensg.columns)])\n",
    "        df_ensg_full = pd.concat([df_ensg, df_ensg_missing],axis=1)[genes]\n",
    "        return df_ensg_full\n",
    "    elif level==\"affy\":\n",
    "        df = pd.read_csv(os.environ.get(\"UAMSDATAFILE\"),index_col=0)\n",
    "        df.index.name='affy_hg_u133_plus_2'\n",
    "        train_ref = ref[ref.ensembl_gene_id.isin(train_genes)][['ensembl_gene_id','affy_hg_u133_plus_2']].drop_duplicates()\n",
    "        df_ensg = df.merge(train_ref,on='affy_hg_u133_plus_2').drop_duplicates().drop(columns=['affy_hg_u133_plus_2'])\n",
    "        public_ids = df_ensg.filter(regex='^(?!ensembl_gene_id)').columns\n",
    "        df_ensg = df_ensg.groupby('ensembl_gene_id')[public_ids].agg(geo_mean)\n",
    "        df_ensg = df_ensg.transpose()\n",
    "        df_ensg.index.name='PUBLIC_ID'\n",
    "        df_ensg_missing = pd.DataFrame(pd.NA, index=df_ensg.index, columns=train_ref.ensembl_gene_id[~train_ref.ensembl_gene_id.isin(df_ensg.columns)])\n",
    "        df_ensg_full = pd.concat([df_ensg, df_ensg_missing],axis=1)\n",
    "        return df_ensg_full\n",
    "    else:\n",
    "        raise Exception(f\"{level} is not a supported ID system\")"
   ]
  },
  {
   "cell_type": "code",
   "execution_count": 5,
   "id": "d9d803af-0ac8-4c27-a21c-2a3c29eb3215",
   "metadata": {},
   "outputs": [],
   "source": [
    "# conversion between ensgid, entrez gene id, and affy probe id\n",
    "ref = pd.read_csv('/home/users/nus/e1083772/cancer-survival-ml/data/reference/ensembl_entrez_affy.csv',index_col=0).convert_dtypes()"
   ]
  },
  {
   "cell_type": "code",
   "execution_count": 6,
   "id": "e99c8c41-1ad4-425b-bc5e-79c7cc2529ea",
   "metadata": {},
   "outputs": [],
   "source": [
    "train_genes = helper_get_training_genes('os',0,0)"
   ]
  },
  {
   "cell_type": "code",
   "execution_count": 7,
   "id": "ec4300cd-612f-4c1e-9599-e68c15e4e6d1",
   "metadata": {
    "scrolled": true
   },
   "outputs": [],
   "source": [
    "uams_exp = parse_exp_helper(\"UAMSDATAFILE\",level=\"ensembl\",genes=train_genes)"
   ]
  },
  {
   "cell_type": "code",
   "execution_count": 8,
   "id": "3e6ad3ce-b6f7-43ae-8ecb-519a7abe0a2b",
   "metadata": {},
   "outputs": [
    {
     "data": {
      "text/plain": [
       "True     550\n",
       "False    163\n",
       "Name: count, dtype: int64"
      ]
     },
     "execution_count": 8,
     "metadata": {},
     "output_type": "execute_result"
    }
   ],
   "source": [
    "uams_exp.isna().all().value_counts()"
   ]
  },
  {
   "cell_type": "code",
   "execution_count": 6,
   "id": "ca581b46-9637-46a2-b276-6b6fee443dd6",
   "metadata": {},
   "outputs": [],
   "source": [
    "uams_exp_entrez = parse_exp_helper(\"UAMSDATAFILE\",level=\"entrez\",genes=train_genes)"
   ]
  },
  {
   "cell_type": "code",
   "execution_count": 9,
   "id": "78fcf6d2-1b47-47e6-b1cd-1ea08c00df55",
   "metadata": {},
   "outputs": [
    {
     "data": {
      "text/plain": [
       "True     541\n",
       "False    173\n",
       "Name: count, dtype: int64"
      ]
     },
     "execution_count": 9,
     "metadata": {},
     "output_type": "execute_result"
    }
   ],
   "source": [
    "uams_exp_entrez.isna().all().value_counts()"
   ]
  },
  {
   "cell_type": "code",
   "execution_count": 9,
   "id": "cfbbba71-4036-41bc-9d0a-d22c62f7ad02",
   "metadata": {},
   "outputs": [],
   "source": [
    "uams_exp_affy = parse_exp_helper(\"UAMSDATAFILE\",level=\"affy\",genes=train_genes)"
   ]
  },
  {
   "cell_type": "code",
   "execution_count": 10,
   "id": "20cef046-5d0f-460b-8e5c-0eceffbea2a6",
   "metadata": {},
   "outputs": [
    {
     "data": {
      "text/plain": [
       "True    1001\n",
       "Name: count, dtype: int64"
      ]
     },
     "execution_count": 10,
     "metadata": {},
     "output_type": "execute_result"
    }
   ],
   "source": [
    "uams_exp_affy.isna().all().value_counts()"
   ]
  },
  {
   "cell_type": "code",
   "execution_count": null,
   "id": "4c2cfe89-e4d1-4c47-be48-bbd9afa208da",
   "metadata": {},
   "outputs": [],
   "source": []
  },
  {
   "cell_type": "code",
   "execution_count": null,
   "id": "d3032d04-b8e4-4fb1-8dad-b60337ffd389",
   "metadata": {},
   "outputs": [],
   "source": []
  },
  {
   "cell_type": "markdown",
   "id": "f14a7bc5-b0c0-4fbd-93bd-31aae35bdee1",
   "metadata": {},
   "source": [
    "## Todo"
   ]
  },
  {
   "cell_type": "markdown",
   "id": "f70dd75d-e4a9-4253-a248-6cfcc890f9a2",
   "metadata": {},
   "source": [
    "1. compare which gives most genes: entrez gene level, or probe level, or previously my own ensembl gene level\n",
    "\n",
    "2. write function to get PUBLIC_ID by ENSG df for training genes, with NA columns replaced with 0\n",
    "\n",
    "3. Either train new gene expression VAEs on those 100-200 genes only, or use the full df on the VAE"
   ]
  },
  {
   "cell_type": "code",
   "execution_count": null,
   "id": "03cfeea9-23f1-4c57-9930-dbb4aeb52329",
   "metadata": {},
   "outputs": [],
   "source": [
    "df_ensg"
   ]
  }
 ],
 "metadata": {
  "kernelspec": {
   "display_name": "Python 3 (ipykernel)",
   "language": "python",
   "name": "python3"
  },
  "language_info": {
   "codemirror_mode": {
    "name": "ipython",
    "version": 3
   },
   "file_extension": ".py",
   "mimetype": "text/x-python",
   "name": "python",
   "nbconvert_exporter": "python",
   "pygments_lexer": "ipython3",
   "version": "3.9.20"
  }
 },
 "nbformat": 4,
 "nbformat_minor": 5
}
